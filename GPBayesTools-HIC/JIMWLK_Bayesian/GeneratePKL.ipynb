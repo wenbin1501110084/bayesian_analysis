{
 "cells": [
  {
   "cell_type": "markdown",
   "metadata": {},
   "source": [
    "# Create pkl files from JIMWLK output"
   ]
  },
  {
   "cell_type": "code",
   "execution_count": 7,
   "metadata": {},
   "outputs": [],
   "source": [
    "import numpy as np\n",
    "import pickle"
   ]
  },
  {
   "cell_type": "code",
   "execution_count": 8,
   "metadata": {},
   "outputs": [
    {
     "name": "stdout",
     "output_type": "stream",
     "text": [
      "Could not read training point 188\n"
     ]
    }
   ],
   "source": [
    "# path to the data\n",
    "path = './Training_Points/'\n",
    "\n",
    "# loop over all the training points\n",
    "data = {}\n",
    "for point in range(500):\n",
    "    point_dict = {}\n",
    "    PATH_parameter = path + f\"Bayesian_jimwlk_{point}/parameter_{point:03d}\"\n",
    "\n",
    "    # extract parameters from txt file, where 1st column is the parameter name and 2nd column is the value\n",
    "    try:\n",
    "        parameters = np.loadtxt(PATH_parameter, delimiter=' ', dtype='str')\n",
    "        parameters = parameters[:,1]\n",
    "        parameters = parameters.astype(float)\n",
    "\n",
    "        # add training point to dictionary with key as three digit string\n",
    "        point_dict['parameter'] = parameters\n",
    "\n",
    "        # read the training point data\n",
    "        PATH_data = path + f\"Bayesian_jimwlk_{point}/Bayesian_output.txt\"\n",
    "        data_point = np.loadtxt(PATH_data, delimiter=' ', comments='#', dtype='str')\n",
    "        data_point_y = data_point[:,2]\n",
    "        data_point_y = data_point_y.astype(float)\n",
    "        data_point_error = data_point[:,4]\n",
    "        data_point_error = data_point_error.astype(float)\n",
    "\n",
    "        datapoint = np.array([data_point_y, data_point_error])\n",
    "        point_dict['obs'] = datapoint\n",
    "\n",
    "        data[f'{point:03d}'] = point_dict\n",
    "    except:\n",
    "        print(f\"Could not read training point {point}\")\n",
    "\n",
    "# save the data in pkl file\n",
    "with open('training_data_JIMWLK.pkl', 'wb') as f:\n",
    "    pickle.dump(data, f)\n",
    "\n"
   ]
  },
  {
   "cell_type": "code",
   "execution_count": 9,
   "metadata": {},
   "outputs": [],
   "source": [
    "# create a pkl file with the experimental data\n",
    "data = {}\n",
    "PATH_exp = \"./exp_data.txt\"\n",
    "\n",
    "# read the experimental data\n",
    "data_exp = np.loadtxt(PATH_exp, delimiter=' ', comments='#', dtype='str')\n",
    "data_exp_y = data_exp[:,2]\n",
    "data_exp_y = data_exp_y.astype(float)\n",
    "data_exp_error = data_exp[:,4]\n",
    "data_exp_error = data_exp_error.astype(float)\n",
    "\n",
    "datapoint = np.array([data_exp_y, data_exp_error])\n",
    "\n",
    "point_dict = {}\n",
    "point_dict['obs'] = datapoint\n",
    "\n",
    "data['000'] = point_dict\n",
    "\n",
    "# save the data in pkl file\n",
    "with open('exp_data_JIMWLK.pkl', 'wb') as f:\n",
    "    pickle.dump(data, f)\n"
   ]
  },
  {
   "cell_type": "code",
   "execution_count": null,
   "metadata": {},
   "outputs": [],
   "source": []
  },
  {
   "cell_type": "code",
   "execution_count": null,
   "metadata": {},
   "outputs": [],
   "source": []
  }
 ],
 "metadata": {
  "kernelspec": {
   "display_name": "Python 3 (ipykernel)",
   "language": "python",
   "name": "python3"
  },
  "language_info": {
   "codemirror_mode": {
    "name": "ipython",
    "version": 3
   },
   "file_extension": ".py",
   "mimetype": "text/x-python",
   "name": "python",
   "nbconvert_exporter": "python",
   "pygments_lexer": "ipython3",
   "version": "3.10.12"
  }
 },
 "nbformat": 4,
 "nbformat_minor": 4
}
