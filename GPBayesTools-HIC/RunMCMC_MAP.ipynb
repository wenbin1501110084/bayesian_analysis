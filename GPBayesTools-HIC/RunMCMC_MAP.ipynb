{
 "cells": [
  {
   "cell_type": "markdown",
   "metadata": {},
   "source": [
    "# Run MCMC for JIMWLK"
   ]
  },
  {
   "cell_type": "code",
   "execution_count": null,
   "metadata": {},
   "outputs": [],
   "source": [
    "from src import workdir, parse_model_parameter_file\n",
    "from src.emulator_BAND import EmulatorBAND\n",
    "from src.mcmc import Chain\n",
    "\n",
    "import dill\n",
    "import os\n",
    "import pickle"
   ]
  },
  {
   "cell_type": "code",
   "execution_count": null,
   "metadata": {},
   "outputs": [],
   "source": [
    "exp_path = \"./exp_data_JIMWLK.pkl\"\n",
    "model_par = \"./IP_DIFF_JIMWLK_prior_range_delete_unused\"\n",
    "mymcmc = Chain(expdata_path=exp_path, model_parafile=model_par)\n"
   ]
  },
  {
   "cell_type": "code",
   "execution_count": null,
   "metadata": {},
   "outputs": [],
   "source": [
    "emuPathList = [\"./emulator.pkl\"]\n",
    "mymcmc.loadEmulator(emuPathList)"
   ]
  },
  {
   "cell_type": "code",
   "execution_count": null,
   "metadata": {},
   "outputs": [],
   "source": [
    "os.environ[\"OMP_NUM_THREADS\"] = \"1\"\n",
    "# may have to: export RDMAV_FORK_SAFE=1 before running the code\n",
    "n_effective=8000\n",
    "n_active=4000\n",
    "n_prior=16000\n",
    "sample=\"tpcn\"\n",
    "n_max_steps=100\n",
    "random_state=42\n",
    "\n",
    "n_total = 50000\n",
    "n_evidence = 50000\n",
    "\n",
    "pool = 12\n",
    "\n",
    "sampler = mymcmc.run_pocoMC(n_effective=n_effective, n_active=n_active,\n",
    "                            n_prior=n_prior, sample=sample,\n",
    "                            n_max_steps=n_max_steps, random_state=random_state,\n",
    "                            n_total=n_total, n_evidence=n_evidence, pool=pool)"
   ]
  },
  {
   "cell_type": "code",
   "execution_count": null,
   "metadata": {},
   "outputs": [],
   "source": [
    "import matplotlib.pyplot as plt\n",
    "import numpy as np\n",
    "\n",
    "plt.rcParams.update({'font.size': 15})"
   ]
  },
  {
   "cell_type": "code",
   "execution_count": null,
   "metadata": {},
   "outputs": [],
   "source": [
    "PARAMETER_NAMES = [\n",
    "    r'$m\\;[\\mathrm{GeV}]$',\n",
    "    r'$B_G\\;[\\mathrm{GeV}^{-2}]$',\n",
    "    r'$B_{G,{\\rm q}}\\;[\\mathrm{GeV}^{-2}]$',\n",
    "    r'$\\sigma$',\n",
    "    r'$N_{\\rm q}$',\n",
    "    r'$Q_{s}/\\mu$',\n",
    "    r'$m_{\\rm JIMWLK}$',\n",
    "    r'$\\Lambda_{\\rm QCD}$'\n",
    "    ]\n",
    "\n",
    "prior_ranges = [\n",
    "    (0.05,3),\n",
    "    (1,10),\n",
    "    (0.1,3),\n",
    "    (0,1.5),\n",
    "    (1,10),\n",
    "    (0.2,1.5),\n",
    "    (0.05,3),\n",
    "    (0.001,0.2)\n",
    "] \n",
    "\n",
    "def read_pkl_file_chain_pocoMC(PATH_pklfile_chains):\n",
    "    \"\"\"\n",
    "    data is a dictionary containing:\n",
    "    - 'chain'\n",
    "    - 'weights'\n",
    "    - 'logl'\n",
    "    - 'logp'\n",
    "    - 'logz'\n",
    "    - 'logz_err'\n",
    "    \"\"\"\n",
    "    with open(PATH_pklfile_chains, 'rb') as pf:\n",
    "        data = pickle.load(pf)\n",
    "\n",
    "    return data"
   ]
  },
  {
   "cell_type": "code",
   "execution_count": null,
   "metadata": {},
   "outputs": [],
   "source": [
    "def plot_corner_1dataset(n_parameters,data_array,filename,real_parameters=None):\n",
    "    # check the dimension of the data array\n",
    "    dim = len(data_array.shape)\n",
    "    if dim == 3:\n",
    "        samples = data_array[:,:,:].reshape((-1,n_parameters))\n",
    "    elif dim == 2:\n",
    "        samples = data_array[:,:].reshape((-1,n_parameters))\n",
    "    else:\n",
    "        raise ValueError(\"The data array should have 2 or 3 dimensions\")\n",
    "\n",
    "    # Create subplots\n",
    "    fig, axes = plt.subplots(n_parameters, n_parameters, figsize=(25, 25), sharex='col', sharey='row')\n",
    "\n",
    "    # Loop over each parameter pair\n",
    "    for i in range(n_parameters):\n",
    "        for j in range(n_parameters):\n",
    "            ax = axes[i, j]\n",
    "\n",
    "            if i == j:\n",
    "                ax = fig.add_subplot(n_parameters, n_parameters, i * n_parameters + j + 1)\n",
    "                ax.hist(samples[:, i], bins=20, color='g', histtype='step', density=True)\n",
    "                ax.set_yticks([])\n",
    "                ax.set_yticklabels([])\n",
    "                if i != n_parameters-1:\n",
    "                    ax.set_xticks([])\n",
    "                    ax.set_xticklabels([])\n",
    "                if i == n_parameters-1:\n",
    "                    ax.tick_params(axis='x', rotation=45, labelsize=10)\n",
    "\n",
    "                # Calculate percentiles\n",
    "                percentiles = np.percentile(samples[:, i], [16, 50, 84])\n",
    "                median = percentiles[1]\n",
    "                upper = percentiles[2] - median\n",
    "                lower = median - percentiles[0]\n",
    "\n",
    "                ax.annotate(fr'${median:.2f}_{{-{lower:.2f}}}^{{+{upper:.2f}}}$', xy=(0.5, 1.05), xycoords='axes fraction', ha='center')\n",
    "\n",
    "                # Add a vertical line representing the real value\n",
    "                if real_parameters is not None:\n",
    "                    real_value = real_parameters[i]\n",
    "                    ax.axvline(x=real_value, color='k', linestyle='-')\n",
    "\n",
    "                ax.set_xlim([prior_ranges[i][0], prior_ranges[i][1]])\n",
    "            # Only fill the lower triangle\n",
    "            if i > j:\n",
    "                ax.hist2d(samples[:, j], samples[:, i], bins=20, cmap='Greens')\n",
    "\n",
    "\n",
    "            # Set labels on the lowest and leftmost plots\n",
    "            if i == n_parameters - 1:\n",
    "                ax.set_xlabel(PARAMETER_NAMES[j])\n",
    "            if j == 0:\n",
    "                ax.set_ylabel(PARAMETER_NAMES[i])\n",
    "\n",
    "            if i < j:\n",
    "                ax.axis('off')\n",
    "\n",
    "    # Remove space between subplots\n",
    "    plt.subplots_adjust(wspace=0, hspace=0)\n",
    "    plt.subplots_adjust(left=0.05, right=0.95, top=0.95, bottom=0.05)\n",
    "\n",
    "    # Remove ticks and labels for the first and last plots\n",
    "    axes[0, 0].tick_params(axis='both', which='both', bottom=False, left=False, labelbottom=False, labelleft=False)\n",
    "    axes[n_parameters - 1, n_parameters - 1].tick_params(axis='both', which='both', bottom=False, left=False, labelbottom=False, labelleft=False)\n",
    "\n",
    "    # Rotate x-axis tick labels\n",
    "    for ax in axes[-1]:\n",
    "        ax.tick_params(axis='x', rotation=45, labelsize=10)\n",
    "\n",
    "    # Rotate y-axis tick labels\n",
    "    for ax in axes[:, 0]:\n",
    "        ax.tick_params(axis='y', rotation=45, labelsize=10)\n",
    "\n",
    "    plt.savefig(f\"{filename}.pdf\")"
   ]
  },
  {
   "cell_type": "code",
   "execution_count": null,
   "metadata": {},
   "outputs": [],
   "source": [
    "PATH_pklfile = './mcmc/chain.pkl'\n",
    "RUN1_DATA = read_pkl_file_chain_pocoMC(PATH_pklfile)"
   ]
  },
  {
   "cell_type": "code",
   "execution_count": null,
   "metadata": {},
   "outputs": [],
   "source": [
    "plot_corner_1dataset(8,RUN1_DATA['chain'],'corner_plot',real_parameters=None)"
   ]
  },
  {
   "cell_type": "markdown",
   "metadata": {},
   "source": [
    "# Extract the MAP parameters using the GP emulator and the optimize function"
   ]
  },
  {
   "cell_type": "code",
   "execution_count": null,
   "metadata": {},
   "outputs": [],
   "source": [
    "# second method to find the maximum likelihood\n",
    "from scipy import optimize\n",
    "from src.mcmc import Chain\n",
    "\n",
    "bound_min = [a[0] for a in prior_ranges]\n",
    "bound_max = [b[1] for b in prior_ranges]\n",
    "bounds = [(a,b) for (a,b) in zip(bound_min,bound_max)]\n",
    "\n",
    "rslt = optimize.differential_evolution(lambda x: -mymcmc.log_likelihood(x.T), \n",
    "                                        bounds=bounds,\n",
    "                                        maxiter=10000,\n",
    "                                        disp=True,\n",
    "                                        tol=1e-9,\n",
    "                                        vectorized=True,\n",
    "                                        )\n",
    "print(rslt.x)\n",
    "\n",
    "# print the MAP parameters to file\n",
    "with open('MAP_parameters_JIMWLK.dat','w') as f:\n",
    "    for i in range(len(rslt.x)):\n",
    "        f.write(f'{PARAMETER_NAMES[i]}: {rslt.x[i]}\\n')"
   ]
  },
  {
   "cell_type": "code",
   "execution_count": null,
   "metadata": {},
   "outputs": [],
   "source": []
  }
 ],
 "metadata": {
  "kernelspec": {
   "display_name": "Python 3",
   "language": "python",
   "name": "python3"
  },
  "language_info": {
   "codemirror_mode": {
    "name": "ipython",
    "version": 3
   },
   "file_extension": ".py",
   "mimetype": "text/x-python",
   "name": "python",
   "nbconvert_exporter": "python",
   "pygments_lexer": "ipython3",
   "version": "3.10.12"
  }
 },
 "nbformat": 4,
 "nbformat_minor": 2
}
