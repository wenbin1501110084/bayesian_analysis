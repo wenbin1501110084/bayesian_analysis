{
 "cells": [
  {
   "cell_type": "code",
   "execution_count": 1,
   "metadata": {},
   "outputs": [
    {
     "name": "stderr",
     "output_type": "stream",
     "text": [
      "/usr/lib/python3/dist-packages/scipy/__init__.py:146: UserWarning: A NumPy version >=1.17.3 and <1.25.0 is required for this version of SciPy (detected version 1.26.3\n",
      "  warnings.warn(f\"A NumPy version >={np_minversion} and <{np_maxversion}\"\n"
     ]
    },
    {
     "ename": "ModuleNotFoundError",
     "evalue": "No module named 'dill'",
     "output_type": "error",
     "traceback": [
      "\u001b[0;31m---------------------------------------------------------------------------\u001b[0m",
      "\u001b[0;31mModuleNotFoundError\u001b[0m                       Traceback (most recent call last)",
      "\u001b[0;32m/tmp/ipykernel_74825/688276439.py\u001b[0m in \u001b[0;36m<module>\u001b[0;34m\u001b[0m\n\u001b[1;32m      5\u001b[0m \u001b[0msys\u001b[0m\u001b[0;34m.\u001b[0m\u001b[0mpath\u001b[0m\u001b[0;34m.\u001b[0m\u001b[0minsert\u001b[0m\u001b[0;34m(\u001b[0m\u001b[0;36m0\u001b[0m\u001b[0;34m,\u001b[0m \u001b[0mpath\u001b[0m\u001b[0;34m.\u001b[0m\u001b[0mabspath\u001b[0m\u001b[0;34m(\u001b[0m\u001b[0;34m'../'\u001b[0m\u001b[0;34m)\u001b[0m\u001b[0;34m)\u001b[0m\u001b[0;34m\u001b[0m\u001b[0;34m\u001b[0m\u001b[0m\n\u001b[1;32m      6\u001b[0m \u001b[0;34m\u001b[0m\u001b[0m\n\u001b[0;32m----> 7\u001b[0;31m \u001b[0;32mfrom\u001b[0m \u001b[0msrc\u001b[0m\u001b[0;34m.\u001b[0m\u001b[0mmcmc\u001b[0m \u001b[0;32mimport\u001b[0m \u001b[0mChain\u001b[0m\u001b[0;34m\u001b[0m\u001b[0;34m\u001b[0m\u001b[0m\n\u001b[0m",
      "\u001b[0;32m~/Downloads/Wenbin_working/Work/WSU_BNL_work/IP-Glasma-Diff/Bayesian_JIMWLK/GPBayesTools-HIC/src/mcmc.py\u001b[0m in \u001b[0;36m<module>\u001b[0;34m\u001b[0m\n\u001b[1;32m     33\u001b[0m \u001b[0;32mimport\u001b[0m \u001b[0mnumpy\u001b[0m \u001b[0;32mas\u001b[0m \u001b[0mnp\u001b[0m\u001b[0;34m\u001b[0m\u001b[0;34m\u001b[0m\u001b[0m\n\u001b[1;32m     34\u001b[0m \u001b[0;32mfrom\u001b[0m \u001b[0mscipy\u001b[0m\u001b[0;34m.\u001b[0m\u001b[0mlinalg\u001b[0m \u001b[0;32mimport\u001b[0m \u001b[0mlapack\u001b[0m\u001b[0;34m\u001b[0m\u001b[0;34m\u001b[0m\u001b[0m\n\u001b[0;32m---> 35\u001b[0;31m \u001b[0;32mimport\u001b[0m \u001b[0mdill\u001b[0m\u001b[0;34m\u001b[0m\u001b[0;34m\u001b[0m\u001b[0m\n\u001b[0m\u001b[1;32m     36\u001b[0m \u001b[0;34m\u001b[0m\u001b[0m\n\u001b[1;32m     37\u001b[0m \u001b[0;32mfrom\u001b[0m \u001b[0;34m.\u001b[0m \u001b[0;32mimport\u001b[0m \u001b[0mworkdir\u001b[0m\u001b[0;34m,\u001b[0m \u001b[0mparse_model_parameter_file\u001b[0m\u001b[0;34m\u001b[0m\u001b[0;34m\u001b[0m\u001b[0m\n",
      "\u001b[0;31mModuleNotFoundError\u001b[0m: No module named 'dill'"
     ]
    }
   ],
   "source": [
    "%matplotlib inline\n",
    "\n",
    "from os import path\n",
    "import sys\n",
    "sys.path.insert(0, path.abspath('../'))\n",
    "\n",
    "from src.mcmc import Chain"
   ]
  },
  {
   "cell_type": "code",
   "execution_count": null,
   "metadata": {},
   "outputs": [],
   "source": [
    "exp_path = \"./separate_training_posterior_data/example_data_test.pkl\"\n",
    "model_par = \"../data/modelDesign_3DMCGlauber.txt\"\n",
    "mymcmc = Chain(expdata_path=exp_path, model_parafile=model_par)\n"
   ]
  },
  {
   "cell_type": "code",
   "execution_count": null,
   "metadata": {},
   "outputs": [],
   "source": [
    "folder = \"./emulators_full_trained/trained_emulators_PCA/\"\n",
    "emuPathList = [folder+\"AuAu200_dNdy_train_PCSK_trained.sav\",\n",
    "               folder+\"AuAu200_PHOBOSdNdeta_train_PCSK_trained.sav\",\n",
    "               folder+\"AuAu200_PHOBOSv2eta_train_PCSK_trained.sav\",\n",
    "               folder+\"AuAu200_pTvn_train_PCSK_trained.sav\",\n",
    "               folder+\"AuAu19p6_dNdy_train_PCSK_trained.sav\",\n",
    "               folder+\"AuAu19p6_PHOBOSdNdeta_train_PCSK_trained.sav\",\n",
    "               folder+\"AuAu19p6_pTvn_train_PCSK_trained.sav\",\n",
    "               folder+\"AuAu7.7_dNdy_train_PCSK_trained.sav\",\n",
    "               folder+\"AuAu7.7_pTvn_train_PCSK_trained.sav\",\n",
    "               ]\n",
    "mymcmc.loadEmulator(emuPathList)"
   ]
  },
  {
   "cell_type": "code",
   "execution_count": null,
   "metadata": {},
   "outputs": [],
   "source": [
    "nsteps = 1000\n",
    "nwalkers = 100\n",
    "nburnsteps = 7000\n",
    "status = None\n",
    "nthin = 2\n",
    "sampler = mymcmc.run_mcmc(nsteps=nsteps, nburnsteps=nburnsteps,\n",
    "                          nwalkers=nwalkers, status=status, nthin=nthin,\n",
    "                          skip_initial_state_check=True)"
   ]
  },
  {
   "cell_type": "code",
   "execution_count": null,
   "metadata": {},
   "outputs": [],
   "source": [
    "nsteps = 1000\n",
    "nwalkers = 100\n",
    "nburnsteps = 7000\n",
    "status = True\n",
    "nthin = 2\n",
    "ntemps = 30\n",
    "\n",
    "sampler = mymcmc.run_MCMC_ptemcee(nsteps=nsteps, nburnsteps=nburnsteps,\n",
    "                          nwalkers=nwalkers, status=status, nthin=nthin, ntemps=ntemps, nthreads=1)"
   ]
  },
  {
   "cell_type": "code",
   "execution_count": null,
   "metadata": {},
   "outputs": [],
   "source": [
    "nsteps=1000\n",
    "nwalkers=100\n",
    "ntemps=30\n",
    "maxtemp=100\n",
    "nstartparameters = 7000\n",
    "\n",
    "sampler = mymcmc.run_MCMC_PTLMC(nsteps=nsteps, nwalkers=nwalkers, ntemps=ntemps, maxtemp=maxtemp, nstartparameters=nstartparameters)"
   ]
  },
  {
   "cell_type": "code",
   "execution_count": null,
   "metadata": {},
   "outputs": [],
   "source": [
    "n_ess=8000\n",
    "n_active=4000\n",
    "n_prior=16000\n",
    "sample=\"pcn\"\n",
    "max_steps=100\n",
    "random_state=42\n",
    "\n",
    "n_total = 20000\n",
    "n_evidence = 20000\n",
    "mymcmc.run_pocoMC(n_ess=n_ess, n_active=n_active, n_prior=n_prior, sample=sample, max_steps=max_steps, random_state=random_state, n_total=n_total, n_evidence=n_evidence)\n"
   ]
  }
 ],
 "metadata": {
  "kernelspec": {
   "display_name": "Python 3 (ipykernel)",
   "language": "python",
   "name": "python3"
  },
  "language_info": {
   "codemirror_mode": {
    "name": "ipython",
    "version": 3
   },
   "file_extension": ".py",
   "mimetype": "text/x-python",
   "name": "python",
   "nbconvert_exporter": "python",
   "pygments_lexer": "ipython3",
   "version": "3.10.12"
  }
 },
 "nbformat": 4,
 "nbformat_minor": 4
}
