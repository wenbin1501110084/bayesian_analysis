{
 "cells": [
  {
   "cell_type": "markdown",
   "metadata": {},
   "source": [
    "# Create pkl files from JIMWLK output"
   ]
  },
  {
   "cell_type": "code",
   "execution_count": 2,
   "metadata": {},
   "outputs": [],
   "source": [
    "import numpy as np\n",
    "import pickle\n",
    "import matplotlib.pyplot as plt"
   ]
  },
  {
   "cell_type": "code",
   "execution_count": null,
   "metadata": {},
   "outputs": [],
   "source": [
    "# path to the data\n",
    "path = './Training_Points/'\n",
    "\n",
    "# loop over all the training points\n",
    "data = {}\n",
    "for point in range(600):\n",
    "    point_dict = {}\n",
    "    PATH_parameter = path + f\"Bayesian_jimwlk_{point}/parameter_{point:03d}\"\n",
    "\n",
    "    # extract parameters from txt file, where 1st column is the parameter name and 2nd column is the value\n",
    "    try:\n",
    "        parameters = np.loadtxt(PATH_parameter, delimiter=' ', dtype='str')\n",
    "        parameters = parameters[:,1]\n",
    "        parameters = parameters.astype(float)\n",
    "\n",
    "        # add training point to dictionary with key as three digit string\n",
    "        point_dict['parameter'] = parameters\n",
    "\n",
    "        # read the training point data\n",
    "        PATH_data = path + f\"Bayesian_jimwlk_{point}/Bayesian_output.txt\"\n",
    "        data_point = np.loadtxt(PATH_data, delimiter=' ', comments='#', dtype='str')\n",
    "        data_point_y = data_point[:,2]\n",
    "        data_point_y = data_point_y.astype(float)\n",
    "        data_point_error = data_point[:,4]\n",
    "        data_point_error = data_point_error.astype(float)\n",
    "\n",
    "        datapoint = np.array([data_point_y, data_point_error])\n",
    "        point_dict['obs'] = datapoint\n",
    "\n",
    "        data[f'{point:03d}'] = point_dict\n",
    "    except:\n",
    "        print(f\"Could not read training point {point}\")\n",
    "\n",
    "# save the data in pkl file\n",
    "with open('training_data_JIMWLK.pkl', 'wb') as f:\n",
    "    pickle.dump(data, f)\n",
    "\n"
   ]
  },
  {
   "cell_type": "code",
   "execution_count": null,
   "metadata": {},
   "outputs": [],
   "source": [
    "# create a pkl file with the experimental data\n",
    "data = {}\n",
    "PATH_exp = \"./exp_data.txt\"\n",
    "\n",
    "# read the experimental data\n",
    "data_exp = np.loadtxt(PATH_exp, delimiter=' ', comments='#', dtype='str')\n",
    "data_exp_y = data_exp[:,2]\n",
    "data_exp_y = data_exp_y.astype(float)\n",
    "data_exp_error = data_exp[:,4]\n",
    "data_exp_error = data_exp_error.astype(float)\n",
    "\n",
    "datapoint = np.array([data_exp_y, data_exp_error])\n",
    "\n",
    "point_dict = {}\n",
    "point_dict['obs'] = datapoint\n",
    "\n",
    "data['000'] = point_dict\n",
    "\n",
    "# save the data in pkl file\n",
    "with open('exp_data_JIMWLK.pkl', 'wb') as f:\n",
    "    pickle.dump(data, f)\n"
   ]
  },
  {
   "cell_type": "code",
   "execution_count": null,
   "metadata": {},
   "outputs": [],
   "source": [
    "# create a pkl file with the log experimental data\n",
    "data = {}\n",
    "PATH_exp = \"./exp_data.txt\"\n",
    "\n",
    "# read the experimental data\n",
    "data_exp = np.loadtxt(PATH_exp, delimiter=' ', comments='#', dtype='str')\n",
    "data_exp_y = data_exp[:,2]\n",
    "data_exp_y = data_exp_y.astype(float)\n",
    "data_exp_y_LOG = np.log(np.abs(data_exp_y) + 1e-30)\n",
    "\n",
    "data_exp_error = data_exp[:,4]\n",
    "data_exp_error = data_exp_error.astype(float)\n",
    "data_exp_error_LOG = np.abs(data_exp_error/(data_exp_y + 1e-30))\n",
    "\n",
    "datapoint = np.array([data_exp_y_LOG, data_exp_error_LOG])\n",
    "\n",
    "point_dict = {}\n",
    "point_dict['obs'] = datapoint\n",
    "\n",
    "data['000'] = point_dict\n",
    "\n",
    "# save the data in pkl file\n",
    "with open('exp_data_JIMWLK_LOG.pkl', 'wb') as f:\n",
    "    pickle.dump(data, f)"
   ]
  },
  {
   "cell_type": "markdown",
   "metadata": {},
   "source": [
    "# Generate closure test data"
   ]
  },
  {
   "cell_type": "code",
   "execution_count": null,
   "metadata": {},
   "outputs": [],
   "source": [
    "# path to the data\n",
    "path = './Training_Points/'\n",
    "\n",
    "# loop over all the training points\n",
    "data = {}\n",
    "for point in range(599):\n",
    "    point_dict = {}\n",
    "    PATH_parameter = path + f\"Bayesian_jimwlk_{point}/parameter_{point:03d}\"\n",
    "\n",
    "    # extract parameters from txt file, where 1st column is the parameter name and 2nd column is the value\n",
    "    try:\n",
    "        parameters = np.loadtxt(PATH_parameter, delimiter=' ', dtype='str')\n",
    "        parameters = parameters[:,1]\n",
    "        parameters = parameters.astype(float)\n",
    "\n",
    "        # add training point to dictionary with key as three digit string\n",
    "        point_dict['parameter'] = parameters\n",
    "\n",
    "        # read the training point data\n",
    "        PATH_data = path + f\"Bayesian_jimwlk_{point}/Bayesian_output.txt\"\n",
    "        data_point = np.loadtxt(PATH_data, delimiter=' ', comments='#', dtype='str')\n",
    "        data_point_y = data_point[:,2]\n",
    "        data_point_y = data_point_y.astype(float)\n",
    "        data_point_error = data_point[:,4]\n",
    "        data_point_error = data_point_error.astype(float)\n",
    "\n",
    "        datapoint = np.array([data_point_y, data_point_error])\n",
    "        point_dict['obs'] = datapoint\n",
    "\n",
    "        data[f'{point:03d}'] = point_dict\n",
    "    except:\n",
    "        print(f\"Could not read training point {point}\")\n",
    "\n",
    "# save the data in pkl file\n",
    "with open('training_data_JIMWLK_closure_test.pkl', 'wb') as f:\n",
    "    pickle.dump(data, f)\n",
    "\n"
   ]
  },
  {
   "cell_type": "code",
   "execution_count": 3,
   "metadata": {},
   "outputs": [],
   "source": [
    "# closure test point\n",
    "path = './Training_Points/'\n",
    "data = {}\n",
    "testpoint = [599]\n",
    "for point in testpoint:\n",
    "    point_dict = {}\n",
    "    PATH_parameter = path + f\"Bayesian_jimwlk_{point}/parameter_{point:03d}\"\n",
    "\n",
    "    # extract parameters from txt file, where 1st column is the parameter name and 2nd column is the value\n",
    "    try:\n",
    "        parameters = np.loadtxt(PATH_parameter, delimiter=' ', dtype='str')\n",
    "        parameters = parameters[:,1]\n",
    "        parameters = parameters.astype(float)\n",
    "\n",
    "        # add training point to dictionary with key as three digit string\n",
    "        point_dict['parameter'] = parameters\n",
    "\n",
    "        # read the training point data\n",
    "        PATH_data = path + f\"Bayesian_jimwlk_{point}/Bayesian_output.txt\"\n",
    "        data_point = np.loadtxt(PATH_data, delimiter=' ', comments='#', dtype='str')\n",
    "        data_point_y = data_point[:,2]\n",
    "        data_point_y = data_point_y.astype(float)\n",
    "        #data_point_y_LOG = np.log(np.abs(data_point_y) + 1e-30)\n",
    "        data_point_error = data_point[:,4]\n",
    "        data_point_error = data_point_error.astype(float)\n",
    "        #data_point_error_LOG = np.abs(data_point_error/(data_point_y + 1e-30))\n",
    "\n",
    "\n",
    "        #datapoint = np.array([data_point_y_LOG, data_point_error_LOG])\n",
    "        datapoint = np.array([data_point_y, data_point_error])\n",
    "        point_dict['obs'] = datapoint\n",
    "\n",
    "        data['000'] = point_dict\n",
    "    except:\n",
    "        print(f\"Could not read training point {point}\")\n",
    "\n",
    "# save the data in pkl file\n",
    "with open('closure_test_point_JIMWLK.pkl', 'wb') as f:\n",
    "    pickle.dump(data, f)"
   ]
  },
  {
   "cell_type": "markdown",
   "metadata": {},
   "source": [
    "# Generate separate training data for the different systems / observables"
   ]
  },
  {
   "cell_type": "code",
   "execution_count": 6,
   "metadata": {},
   "outputs": [
    {
     "name": "stdout",
     "output_type": "stream",
     "text": [
      "Could not read training point 13\n",
      "Could not read training point 72\n",
      "Could not read training point 179\n"
     ]
    }
   ],
   "source": [
    "# path to the data\n",
    "path = './Training_Points/'\n",
    "\n",
    "# loop over all the training points\n",
    "data = {}\n",
    "data1 = {}\n",
    "data2 = {}\n",
    "for point in range(600):\n",
    "    point_dict = {}\n",
    "    point_dict1 = {}\n",
    "    point_dict2 = {}\n",
    "    PATH_parameter = path + f\"Bayesian_jimwlk_{point}/parameter_{point:03d}\"\n",
    "\n",
    "    # extract parameters from txt file, where 1st column is the parameter name and 2nd column is the value\n",
    "    try:\n",
    "        parameters = np.loadtxt(PATH_parameter, delimiter=' ', dtype='str')\n",
    "        parameters = parameters[:,1]\n",
    "        parameters = parameters.astype(float)\n",
    "\n",
    "        # add training point to dictionary with key as three digit string\n",
    "        point_dict['parameter'] = parameters\n",
    "        point_dict1['parameter'] = parameters\n",
    "        point_dict2['parameter'] = parameters\n",
    "\n",
    "        # read the training point data\n",
    "        PATH_data = path + f\"Bayesian_jimwlk_{point}/Bayesian_output.txt\"\n",
    "        data_point = np.loadtxt(PATH_data, delimiter=' ', comments='#', dtype='str')\n",
    "        data_point_y = data_point[:,2]\n",
    "        data_point_y = data_point_y.astype(float)\n",
    "        #data_point_y_LOG = np.log(np.abs(data_point_y) + 1e-30)\n",
    "        data_point_error = data_point[:,4]\n",
    "        data_point_error = data_point_error.astype(float)\n",
    "        #data_point_error_LOG = np.abs(data_point_error/(data_point_y + 1e-30))\n",
    "\n",
    "        #datapoint = np.array([data_point_y_LOG, data_point_error_LOG])\n",
    "        datapoint = np.array([data_point_y, data_point_error])\n",
    "        # put the first 13 lines in point_dict['obs'], the last 15 in point_dict2['obs'], the rest in point_dict1['obs']\n",
    "        point_dict['obs'] = datapoint[:,:13]\n",
    "        point_dict1['obs'] = datapoint[:,13:-15]\n",
    "        point_dict2['obs'] = datapoint[:,-15:]\n",
    "\n",
    "        data[f'{point:03d}'] = point_dict\n",
    "        data1[f'{point:03d}'] = point_dict1\n",
    "        data2[f'{point:03d}'] = point_dict2\n",
    "    except:\n",
    "        print(f\"Could not read training point {point}\")\n",
    "\n",
    "# save the data in pkl file\n",
    "with open('training_data_JIMWLK_set1.pkl', 'wb') as f:\n",
    "    pickle.dump(data, f)\n",
    "\n",
    "with open('training_data_JIMWLK_set2.pkl', 'wb') as f:\n",
    "    pickle.dump(data1, f)\n",
    "\n",
    "with open('training_data_JIMWLK_set3.pkl', 'wb') as f:\n",
    "    pickle.dump(data2, f)\n",
    "\n"
   ]
  },
  {
   "cell_type": "code",
   "execution_count": null,
   "metadata": {},
   "outputs": [],
   "source": [
    "# path to the data, use no |t|-differential data\n",
    "path = './Training_Points/'\n",
    "\n",
    "# loop over all the training points\n",
    "data = {}\n",
    "data1 = {}\n",
    "for point in range(600):\n",
    "    point_dict = {}\n",
    "    point_dict1 = {}\n",
    "    PATH_parameter = path + f\"Bayesian_jimwlk_{point}/parameter_{point:03d}\"\n",
    "\n",
    "    # extract parameters from txt file, where 1st column is the parameter name and 2nd column is the value\n",
    "    try:\n",
    "        parameters = np.loadtxt(PATH_parameter, delimiter=' ', dtype='str')\n",
    "        parameters = parameters[:,1]\n",
    "        parameters = parameters.astype(float)\n",
    "\n",
    "        # add training point to dictionary with key as three digit string\n",
    "        point_dict['parameter'] = parameters\n",
    "        point_dict1['parameter'] = parameters\n",
    "        point_dict2['parameter'] = parameters\n",
    "\n",
    "        # read the training point data\n",
    "        PATH_data = path + f\"Bayesian_jimwlk_{point}/Bayesian_output.txt\"\n",
    "        data_point = np.loadtxt(PATH_data, delimiter=' ', comments='#', dtype='str')\n",
    "        data_point_y = data_point[:,2]\n",
    "        data_point_y = data_point_y.astype(float)\n",
    "        \n",
    "        data_point_error = data_point[:,4]\n",
    "        data_point_error = data_point_error.astype(float)\n",
    "\n",
    "        datapoint = np.array([data_point_y, data_point_error])\n",
    "        # put the first 13 lines in point_dict['obs'], the last 15 in point_dict2['obs'], the rest in point_dict1['obs']\n",
    "        point_dict['obs'] = datapoint[:,:13]\n",
    "        point_dict1['obs'] = datapoint[:,13:-15]\n",
    "\n",
    "        data[f'{point:03d}'] = point_dict\n",
    "        data1[f'{point:03d}'] = point_dict1\n",
    "    except:\n",
    "        print(f\"Could not read training point {point}\")\n",
    "\n",
    "# save the data in pkl file\n",
    "with open('training_data_JIMWLK_set1.pkl', 'wb') as f:\n",
    "    pickle.dump(data, f)\n",
    "\n",
    "with open('training_data_JIMWLK_set2.pkl', 'wb') as f:\n",
    "    pickle.dump(data1, f)\n"
   ]
  },
  {
   "cell_type": "code",
   "execution_count": 5,
   "metadata": {},
   "outputs": [
    {
     "name": "stdout",
     "output_type": "stream",
     "text": [
      "58\n"
     ]
    }
   ],
   "source": [
    "# create a pkl file with the experimental data without the |t|-differential points\n",
    "data = {}\n",
    "PATH_exp = \"./exp_data.txt\"\n",
    "\n",
    "# read the experimental data\n",
    "data_exp = np.loadtxt(PATH_exp, delimiter=' ', comments='#', dtype='str')\n",
    "data_exp_y = data_exp[:,2]\n",
    "data_exp_y = data_exp_y.astype(float)\n",
    "\n",
    "data_exp_error = data_exp[:,4]\n",
    "data_exp_error = data_exp_error.astype(float)\n",
    "\n",
    "datapoint = np.array([data_exp_y[:-15], data_exp_error[:-15]])\n",
    "\n",
    "point_dict = {}\n",
    "point_dict['obs'] = datapoint\n",
    "\n",
    "data['000'] = point_dict\n",
    "\n",
    "# save the data in pkl file\n",
    "with open('exp_data_JIMWLK_no_tdiff.pkl', 'wb') as f:\n",
    "    pickle.dump(data, f)"
   ]
  },
  {
   "cell_type": "markdown",
   "metadata": {},
   "source": [
    "# Generate training data for the closure test including three different emulators"
   ]
  },
  {
   "cell_type": "code",
   "execution_count": 2,
   "metadata": {},
   "outputs": [
    {
     "name": "stdout",
     "output_type": "stream",
     "text": [
      "Could not read training point 13\n",
      "Could not read training point 72\n",
      "Could not read training point 179\n"
     ]
    }
   ],
   "source": [
    "# path to the data\n",
    "path = './Training_Points/'\n",
    "\n",
    "# loop over all the training points\n",
    "data = {}\n",
    "data1 = {}\n",
    "data2 = {}\n",
    "for point in range(599):\n",
    "    point_dict = {}\n",
    "    point_dict1 = {}\n",
    "    point_dict2 = {}\n",
    "    PATH_parameter = path + f\"Bayesian_jimwlk_{point}/parameter_{point:03d}\"\n",
    "\n",
    "    # extract parameters from txt file, where 1st column is the parameter name and 2nd column is the value\n",
    "    try:\n",
    "        parameters = np.loadtxt(PATH_parameter, delimiter=' ', dtype='str')\n",
    "        parameters = parameters[:,1]\n",
    "        parameters = parameters.astype(float)\n",
    "\n",
    "        # add training point to dictionary with key as three digit string\n",
    "        point_dict['parameter'] = parameters\n",
    "        point_dict1['parameter'] = parameters\n",
    "        point_dict2['parameter'] = parameters\n",
    "\n",
    "        # read the training point data\n",
    "        PATH_data = path + f\"Bayesian_jimwlk_{point}/Bayesian_output.txt\"\n",
    "        data_point = np.loadtxt(PATH_data, delimiter=' ', comments='#', dtype='str')\n",
    "        data_point_y = data_point[:,2]\n",
    "        data_point_y = data_point_y.astype(float)\n",
    "        #data_point_y_LOG = np.log(np.abs(data_point_y) + 1e-30)\n",
    "        data_point_error = data_point[:,4]\n",
    "        data_point_error = data_point_error.astype(float)\n",
    "        #data_point_error_LOG = np.abs(data_point_error/(data_point_y + 1e-30))\n",
    "\n",
    "        #datapoint = np.array([data_point_y_LOG, data_point_error_LOG])\n",
    "        datapoint = np.array([data_point_y, data_point_error])\n",
    "        # put the first 13 lines in point_dict['obs'], the last 15 in point_dict2['obs'], the rest in point_dict1['obs']\n",
    "        point_dict['obs'] = datapoint[:,:13]\n",
    "        point_dict1['obs'] = datapoint[:,13:-15]\n",
    "        point_dict2['obs'] = datapoint[:,-15:]\n",
    "\n",
    "        data[f'{point:03d}'] = point_dict\n",
    "        data1[f'{point:03d}'] = point_dict1\n",
    "        data2[f'{point:03d}'] = point_dict2\n",
    "    except:\n",
    "        print(f\"Could not read training point {point}\")\n",
    "\n",
    "# save the data in pkl file\n",
    "with open('training_data_JIMWLK_set1_closure.pkl', 'wb') as f:\n",
    "    pickle.dump(data, f)\n",
    "\n",
    "with open('training_data_JIMWLK_set2_closure.pkl', 'wb') as f:\n",
    "    pickle.dump(data1, f)\n",
    "\n",
    "with open('training_data_JIMWLK_set3_closure.pkl', 'wb') as f:\n",
    "    pickle.dump(data2, f)\n",
    "\n"
   ]
  },
  {
   "cell_type": "markdown",
   "metadata": {},
   "source": [
    "# Plot the training point errors"
   ]
  },
  {
   "cell_type": "code",
   "execution_count": 7,
   "metadata": {},
   "outputs": [
    {
     "name": "stdout",
     "output_type": "stream",
     "text": [
      "Could not read training point 13\n",
      "Could not read training point 72\n",
      "Could not read training point 179\n"
     ]
    },
    {
     "data": {
      "text/plain": [
       "<Figure size 640x480 with 0 Axes>"
      ]
     },
     "metadata": {},
     "output_type": "display_data"
    }
   ],
   "source": [
    "# path to the data\n",
    "path = './Training_Points/'\n",
    "\n",
    "# loop over all the training points\n",
    "training_point_relative_uncertainty = []\n",
    "for point in range(600):\n",
    "    point_dict = {}\n",
    "    PATH_parameter = path + f\"Bayesian_jimwlk_{point}/parameter_{point:03d}\"\n",
    "\n",
    "    # extract parameters from txt file, where 1st column is the parameter name and 2nd column is the value\n",
    "    try:\n",
    "        parameters = np.loadtxt(PATH_parameter, delimiter=' ', dtype='str')\n",
    "        parameters = parameters[:,1]\n",
    "        parameters = parameters.astype(float)\n",
    "\n",
    "        # read the training point data\n",
    "        PATH_data = path + f\"Bayesian_jimwlk_{point}/Bayesian_output.txt\"\n",
    "        data_point = np.loadtxt(PATH_data, delimiter=' ', comments='#', dtype='str')\n",
    "        data_point_y = data_point[:,2]\n",
    "        data_point_y = data_point_y.astype(float)\n",
    "        data_point_error = data_point[:,4]\n",
    "        data_point_error = data_point_error.astype(float)\n",
    "\n",
    "        relative_uncertainty = data_point_error/data_point_y\n",
    "        training_point_relative_uncertainty.append(relative_uncertainty)\n",
    "\n",
    "    except:\n",
    "        print(f\"Could not read training point {point}\")\n",
    "\n",
    "\n",
    "training_point_relative_uncertainty = np.array(training_point_relative_uncertainty)\n",
    "\n",
    "# generate a 2d matrix plot of the relative uncertainty with a log scale\n",
    "log_data = np.log(training_point_relative_uncertainty + 1e-30)\n",
    "plt.imshow(log_data, aspect='auto')\n",
    "plt.colorbar()\n",
    "plt.ylabel('Training point')\n",
    "plt.xlabel('Observable')\n",
    "plt.title('Log relative uncertainty of the training points')\n",
    "#plt.show()\n",
    "plt.savefig('log_relative_uncertainty_training_points.png', dpi=600)\n",
    "plt.clf()\n",
    "\n",
    "# make the same plot, but just show relative errors larger than 0.25 without the log scale\n",
    "max_value = np.max(training_point_relative_uncertainty)\n",
    "plt.imshow(training_point_relative_uncertainty > 0.25, aspect='auto', vmax=max_value)\n",
    "# set the minimum value to 0.25 for the colorbar\n",
    "plt.clim(0.25, max_value)\n",
    "plt.colorbar()\n",
    "plt.ylabel('Training point')\n",
    "plt.xlabel('Observable')\n",
    "plt.title('Relative uncertainty of the training points larger than 0.25')\n",
    "#plt.show()\n",
    "plt.savefig('relative_uncertainty_training_points_0.25.png', dpi=600)\n",
    "plt.clf()\n",
    "\n",
    "# make the same plot, but just show relative errors larger than 0.1 without the log scale\n",
    "plt.imshow(training_point_relative_uncertainty > 0.1, aspect='auto')\n",
    "plt.clim(0.1, max_value)\n",
    "plt.colorbar()\n",
    "plt.ylabel('Training point')\n",
    "plt.xlabel('Observable')\n",
    "plt.title('Relative uncertainty of the training points larger than 0.1')\n",
    "#plt.show()\n",
    "plt.savefig('relative_uncertainty_training_points_0.1.png', dpi=600)\n",
    "plt.clf()\n"
   ]
  },
  {
   "cell_type": "code",
   "execution_count": 8,
   "metadata": {},
   "outputs": [
    {
     "data": {
      "text/plain": [
       "<Figure size 640x480 with 0 Axes>"
      ]
     },
     "metadata": {},
     "output_type": "display_data"
    }
   ],
   "source": [
    "rel_err_transposed = training_point_relative_uncertainty.T\n",
    "\n",
    "max_rel_err_obs = []\n",
    "for observable in range(rel_err_transposed.shape[0]):\n",
    "    max_rel_err_obs.append(np.max(rel_err_transposed[observable]))\n",
    "    plt.hist(rel_err_transposed[observable])\n",
    "    plt.xlabel('Relative uncertainty')\n",
    "    plt.ylabel('Number of training points')\n",
    "    plt.title(f'Observable {observable}')\n",
    "    plt.yscale('log')\n",
    "    plt.savefig(f'./rel_err_training/hist_rel_err_train_obs_{observable}.png', dpi=600)\n",
    "    plt.clf()"
   ]
  },
  {
   "cell_type": "code",
   "execution_count": 9,
   "metadata": {},
   "outputs": [
    {
     "data": {
      "image/png": "[encoded data removed]",
      "text/plain": [
       "<Figure size 640x480 with 1 Axes>"
      ]
     },
     "metadata": {},
     "output_type": "display_data"
    }
   ],
   "source": [
    "# make a figure with the maximum relative error for each observable\n",
    "plt.scatter(range(len(max_rel_err_obs)),max_rel_err_obs, color='g')\n",
    "plt.xlabel('Observable')\n",
    "plt.ylabel('Maximum relative uncertainty')\n",
    "plt.yscale('log')\n",
    "\n",
    "plt.savefig('./rel_err_training/max_rel_err_obs.png', dpi=600)"
   ]
  },
  {
   "cell_type": "code",
   "execution_count": null,
   "metadata": {},
   "outputs": [],
   "source": []
  }
 ],
 "metadata": {
  "kernelspec": {
   "display_name": "Python 3",
   "language": "python",
   "name": "python3"
  },
  "language_info": {
   "codemirror_mode": {
    "name": "ipython",
    "version": 3
   },
   "file_extension": ".py",
   "mimetype": "text/x-python",
   "name": "python",
   "nbconvert_exporter": "python",
   "pygments_lexer": "ipython3",
   "version": "3.10.12"
  }
 },
 "nbformat": 4,
 "nbformat_minor": 2
}
