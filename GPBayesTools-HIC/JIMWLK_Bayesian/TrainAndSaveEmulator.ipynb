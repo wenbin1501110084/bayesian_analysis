{
 "cells": [
  {
   "cell_type": "markdown",
   "metadata": {},
   "source": [
    "# Train the emulator with JIMWALK dataset"
   ]
  },
  {
   "cell_type": "code",
   "execution_count": 4,
   "metadata": {},
   "outputs": [],
   "source": [
    "from src import workdir, parse_model_parameter_file\n",
    "from src.emulator_BAND import EmulatorBAND\n",
    "from src.emulator import Emulator\n",
    "\n",
    "import dill"
   ]
  },
  {
   "cell_type": "code",
   "execution_count": 5,
   "metadata": {},
   "outputs": [
    {
     "name": "stdout",
     "output_type": "stream",
     "text": [
      "[INFO][emulator_BAND] loading training data from ./training_data_JIMWLK.pkl ...\n",
      "[INFO][emulator_BAND] All training data are loaded.\n",
      "[INFO][emulator_BAND] Training dataset size: 499, discarded points: 0\n",
      "[INFO][emulator_BAND] Performing emulator training ...\n",
      "[INFO][emulator_BAND] Train GP emulators with 499 training points ...\n"
     ]
    }
   ],
   "source": [
    "model_par = \"./IP_DIFF_JIMWLK_prior_range\"\n",
    "data_path = \"./training_data_JIMWLK.pkl\"\n",
    "emu = EmulatorBAND(data_path, model_par, method='PCSK', logTrafo=False, parameterTrafoPCA=False)\n",
    "emu.trainEmulatorAutoMask()\n",
    "\n",
    "# write the emu object into a dill file\n",
    "with open(\"./emulator.pkl\", \"wb\") as f:\n",
    "    dill.dump(emu, f)"
   ]
  },
  {
   "cell_type": "code",
   "execution_count": null,
   "metadata": {},
   "outputs": [],
   "source": []
  }
 ],
 "metadata": {
  "kernelspec": {
   "display_name": "Python 3 (ipykernel)",
   "language": "python",
   "name": "python3"
  },
  "language_info": {
   "codemirror_mode": {
    "name": "ipython",
    "version": 3
   },
   "file_extension": ".py",
   "mimetype": "text/x-python",
   "name": "python",
   "nbconvert_exporter": "python",
   "pygments_lexer": "ipython3",
   "version": "3.10.12"
  }
 },
 "nbformat": 4,
 "nbformat_minor": 4
}
