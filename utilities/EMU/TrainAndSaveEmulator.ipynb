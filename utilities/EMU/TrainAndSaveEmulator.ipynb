{
 "cells": [
  {
   "cell_type": "markdown",
   "metadata": {},
   "source": [
    "# Train the emulator with JIMWALK dataset"
   ]
  },
  {
   "cell_type": "code",
   "execution_count": null,
   "metadata": {},
   "outputs": [],
   "source": [
    "from src import workdir, parse_model_parameter_file\n",
    "from src.emulator_BAND import EmulatorBAND\n",
    "from src.emulator import Emulator\n",
    "\n",
    "import dill"
   ]
  },
  {
   "cell_type": "code",
   "execution_count": null,
   "metadata": {},
   "outputs": [],
   "source": [
    "model_par = \"./IP_DIFF_JIMWLK_prior_range_delete_unused\"\n",
    "data_path = \"./training_data_JIMWLK.pkl\"\n",
    "emu = EmulatorBAND(data_path, model_par, method='PCSK', logTrafo=False, parameterTrafoPCA=False)\n",
    "emu.trainEmulatorAutoMask()\n",
    "\n",
    "# write the emu object into a dill file\n",
    "with open(\"./emulator.pkl\", \"wb\") as f:\n",
    "    dill.dump(emu, f)"
   ]
  },
  {
   "cell_type": "code",
   "execution_count": null,
   "metadata": {},
   "outputs": [],
   "source": [
    "model_par = \"./IP_DIFF_JIMWLK_prior_range_delete_unused\"\n",
    "data_path = \"./training_data_JIMWLK.pkl\"\n",
    "emu = Emulator(data_path, model_par, npc=4, logTrafo=False, parameterTrafoPCA=False)\n",
    "emu.trainEmulatorAutoMask()\n",
    "\n",
    "# write the emu object into a dill file\n",
    "with open(\"./emulator_scikit.pkl\", \"wb\") as f:\n",
    "    dill.dump(emu, f)"
   ]
  },
  {
   "cell_type": "markdown",
   "metadata": {},
   "source": [
    "# Train for closure test"
   ]
  },
  {
   "cell_type": "code",
   "execution_count": null,
   "metadata": {},
   "outputs": [],
   "source": [
    "model_par = \"./IP_DIFF_JIMWLK_prior_range_delete_unused\"\n",
    "data_path = \"./training_data_JIMWLK_closure_test.pkl\"\n",
    "emu = EmulatorBAND(data_path, model_par, method='PCSK', logTrafo=False, parameterTrafoPCA=False)\n",
    "emu.trainEmulatorAutoMask()\n",
    "\n",
    "# write the emu object into a dill file\n",
    "with open(\"./emulator_PCSK_closure_test.pkl\", \"wb\") as f:\n",
    "    dill.dump(emu, f)"
   ]
  },
  {
   "cell_type": "code",
   "execution_count": null,
   "metadata": {},
   "outputs": [],
   "source": [
    "model_par = \"./IP_DIFF_JIMWLK_prior_range_delete_unused\"\n",
    "data_path = \"./training_data_JIMWLK_closure_test.pkl\"\n",
    "emu = Emulator(data_path, model_par, npc=4, logTrafo=False, parameterTrafoPCA=False)\n",
    "emu.trainEmulatorAutoMask()\n",
    "\n",
    "# write the emu object into a dill file\n",
    "with open(\"./emulator_scikit_closure_test.pkl\", \"wb\") as f:\n",
    "    dill.dump(emu, f)"
   ]
  },
  {
   "cell_type": "markdown",
   "metadata": {},
   "source": [
    "# Train the three separate emulators"
   ]
  },
  {
   "cell_type": "code",
   "execution_count": null,
   "metadata": {},
   "outputs": [],
   "source": [
    "model_par = \"./IP_DIFF_JIMWLK_prior_range_delete_unused\"\n",
    "data_path = \"./training_data_JIMWLK_set1.pkl\"\n",
    "emu = EmulatorBAND(data_path, model_par, method='PCSK', logTrafo=True, parameterTrafoPCA=False, max_rel_uncertainty_data=0.1)\n",
    "emu.trainEmulatorAutoMask()\n",
    "\n",
    "# write the emu object into a dill file\n",
    "with open(\"./emulator_set1.pkl\", \"wb\") as f:\n",
    "    dill.dump(emu, f)\n",
    "\n",
    "model_par = \"./IP_DIFF_JIMWLK_prior_range_delete_unused\"\n",
    "data_path = \"./training_data_JIMWLK_set2.pkl\"\n",
    "emu = EmulatorBAND(data_path, model_par, method='PCSK', logTrafo=True, parameterTrafoPCA=False, max_rel_uncertainty_data=0.1)\n",
    "emu.trainEmulatorAutoMask()\n",
    "\n",
    "# write the emu object into a dill file\n",
    "with open(\"./emulator_set2.pkl\", \"wb\") as f:\n",
    "    dill.dump(emu, f)\n",
    "\n",
    "model_par = \"./IP_DIFF_JIMWLK_prior_range_delete_unused\"\n",
    "data_path = \"./training_data_JIMWLK_set3.pkl\"\n",
    "emu = EmulatorBAND(data_path, model_par, method='PCSK', logTrafo=True, parameterTrafoPCA=False, max_rel_uncertainty_data=0.25)\n",
    "emu.trainEmulatorAutoMask()\n",
    "\n",
    "# write the emu object into a dill file\n",
    "with open(\"./emulator_set3.pkl\", \"wb\") as f:\n",
    "    dill.dump(emu, f)"
   ]
  },
  {
   "cell_type": "markdown",
   "metadata": {},
   "source": [
    "# Train the three separate emulators with the closure test data"
   ]
  },
  {
   "cell_type": "code",
   "execution_count": null,
   "metadata": {},
   "outputs": [],
   "source": [
    "model_par = \"./IP_DIFF_JIMWLK_prior_range_delete_unused\"\n",
    "data_path = \"./training_data_JIMWLK_set1_closure.pkl\"\n",
    "emu = EmulatorBAND(data_path, model_par, method='PCSK', logTrafo=True, parameterTrafoPCA=False, max_rel_uncertainty_data=0.1)\n",
    "emu.trainEmulatorAutoMask()\n",
    "\n",
    "# write the emu object into a dill file\n",
    "with open(\"./emulator_set1_closure.pkl\", \"wb\") as f:\n",
    "    dill.dump(emu, f)\n",
    "\n",
    "model_par = \"./IP_DIFF_JIMWLK_prior_range_delete_unused\"\n",
    "data_path = \"./training_data_JIMWLK_set2_closure.pkl\"\n",
    "emu = EmulatorBAND(data_path, model_par, method='PCSK', logTrafo=True, parameterTrafoPCA=False, max_rel_uncertainty_data=0.1)\n",
    "emu.trainEmulatorAutoMask()\n",
    "\n",
    "# write the emu object into a dill file\n",
    "with open(\"./emulator_set2_closure.pkl\", \"wb\") as f:\n",
    "    dill.dump(emu, f)\n",
    "\n",
    "model_par = \"./IP_DIFF_JIMWLK_prior_range_delete_unused\"\n",
    "data_path = \"./training_data_JIMWLK_set3_closure.pkl\"\n",
    "emu = EmulatorBAND(data_path, model_par, method='PCSK', logTrafo=True, parameterTrafoPCA=False, max_rel_uncertainty_data=0.25)\n",
    "emu.trainEmulatorAutoMask()\n",
    "\n",
    "# write the emu object into a dill file\n",
    "with open(\"./emulator_set3_closure.pkl\", \"wb\") as f:\n",
    "    dill.dump(emu, f)"
   ]
  },
  {
   "cell_type": "code",
   "execution_count": null,
   "metadata": {},
   "outputs": [],
   "source": []
  }
 ],
 "metadata": {
  "kernelspec": {
   "display_name": "Python 3 (ipykernel)",
   "language": "python",
   "name": "python3"
  },
  "language_info": {
   "codemirror_mode": {
    "name": "ipython",
    "version": 3
   },
   "file_extension": ".py",
   "mimetype": "text/x-python",
   "name": "python",
   "nbconvert_exporter": "python",
   "pygments_lexer": "ipython3",
   "version": "3.10.12"
  }
 },
 "nbformat": 4,
 "nbformat_minor": 4
}
